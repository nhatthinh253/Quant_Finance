{
 "cells": [
  {
   "cell_type": "markdown",
   "metadata": {},
   "source": [
    "# Project 1: Income Stock Portfolio\n",
    "\n",
    "This project is to create a portfolio with 3 income stocks and explore basic statistics of the portfolio. The chosen income stocks are:\n",
    "- PEP  (from PepsiCo, Inc., Beverage Industry)\n",
    "- PG (from The Procter & Gamble Company, Household & Personal Products Industry)\n",
    "- IBM (from International Business Machines Corporation, Information Technology Services Industry)"
   ]
  },
  {
   "cell_type": "code",
   "execution_count": 1,
   "metadata": {},
   "outputs": [
    {
     "name": "stderr",
     "output_type": "stream",
     "text": [
      "C:\\Users\\nhatthing.cao\\anaconda3\\lib\\site-packages\\pandas\\core\\computation\\expressions.py:20: UserWarning: Pandas requires version '2.7.3' or newer of 'numexpr' (version '2.7.1' currently installed).\n",
      "  from pandas.core.computation.check import NUMEXPR_INSTALLED\n"
     ]
    }
   ],
   "source": [
    "import pandas as pd\n",
    "import numpy as np\n",
    "import matplotlib.pyplot as plt\n",
    "from datetime import datetime \n",
    "import yfinance as yf"
   ]
  },
  {
   "cell_type": "markdown",
   "metadata": {},
   "source": [
    "## 1. Prepare the Data\n",
    "I pulled the daily data of the three stocks in the period from Jan 01 2021 to Dec 31 2023,  from Yahoo Finance for my calculation"
   ]
  },
  {
   "cell_type": "code",
   "execution_count": 2,
   "metadata": {},
   "outputs": [
    {
     "name": "stderr",
     "output_type": "stream",
     "text": [
      "[*********************100%%**********************]  1 of 1 completed\n",
      "[*********************100%%**********************]  1 of 1 completed\n",
      "[*********************100%%**********************]  1 of 1 completed\n"
     ]
    }
   ],
   "source": [
    "start_date = \"2021-01-01\"\n",
    "end_date = \"2023-12-31\"\n",
    "\n",
    "def stock_date(sticker, start = start_date, end = end_date):\n",
    "    df = yf.download(sticker, start, end)\n",
    "    return df\n",
    "\n",
    "\n",
    "pep = stock_date(\"PEP\")\n",
    "pg = stock_date(\"PG\")\n",
    "ibm = stock_date(\"IBM\")"
   ]
  },
  {
   "cell_type": "code",
   "execution_count": 3,
   "metadata": {},
   "outputs": [
    {
     "data": {
      "text/html": [
       "<div>\n",
       "<style scoped>\n",
       "    .dataframe tbody tr th:only-of-type {\n",
       "        vertical-align: middle;\n",
       "    }\n",
       "\n",
       "    .dataframe tbody tr th {\n",
       "        vertical-align: top;\n",
       "    }\n",
       "\n",
       "    .dataframe thead th {\n",
       "        text-align: right;\n",
       "    }\n",
       "</style>\n",
       "<table border=\"1\" class=\"dataframe\">\n",
       "  <thead>\n",
       "    <tr style=\"text-align: right;\">\n",
       "      <th></th>\n",
       "      <th>PEP</th>\n",
       "      <th>PG</th>\n",
       "      <th>IBM</th>\n",
       "    </tr>\n",
       "  </thead>\n",
       "  <tbody>\n",
       "    <tr>\n",
       "      <th>0</th>\n",
       "      <td>0.002980</td>\n",
       "      <td>0.006385</td>\n",
       "      <td>0.017751</td>\n",
       "    </tr>\n",
       "    <tr>\n",
       "      <th>1</th>\n",
       "      <td>-0.012232</td>\n",
       "      <td>0.010526</td>\n",
       "      <td>0.024972</td>\n",
       "    </tr>\n",
       "    <tr>\n",
       "      <th>2</th>\n",
       "      <td>-0.003218</td>\n",
       "      <td>-0.009346</td>\n",
       "      <td>-0.002320</td>\n",
       "    </tr>\n",
       "    <tr>\n",
       "      <th>3</th>\n",
       "      <td>0.012002</td>\n",
       "      <td>-0.000432</td>\n",
       "      <td>-0.003566</td>\n",
       "    </tr>\n",
       "    <tr>\n",
       "      <th>4</th>\n",
       "      <td>-0.014496</td>\n",
       "      <td>-0.006773</td>\n",
       "      <td>0.000389</td>\n",
       "    </tr>\n",
       "  </tbody>\n",
       "</table>\n",
       "</div>"
      ],
      "text/plain": [
       "        PEP        PG       IBM\n",
       "0  0.002980  0.006385  0.017751\n",
       "1 -0.012232  0.010526  0.024972\n",
       "2 -0.003218 -0.009346 -0.002320\n",
       "3  0.012002 -0.000432 -0.003566\n",
       "4 -0.014496 -0.006773  0.000389"
      ]
     },
     "execution_count": 3,
     "metadata": {},
     "output_type": "execute_result"
    }
   ],
   "source": [
    "# closing price of each stock\n",
    "pep_close_price = pep.Close.to_numpy()\n",
    "pg_close_price = pg.Close.to_numpy()\n",
    "ibm_close_price = ibm.Close.to_numpy()\n",
    "\n",
    "# daily return of each stock daily return \n",
    "pep_daily_return = pep_close_price[1:]/pep_close_price[:-1] - 1\n",
    "pg_daily_return = pg_close_price[1:]/pg_close_price[:-1] - 1\n",
    "ibm_daily_return = ibm_close_price[1:]/ibm_close_price[:-1] - 1\n",
    "\n",
    "portfolio = pd.DataFrame ({\"PEP\":pep_daily_return\n",
    "                           ,\"PG\":pg_daily_return\n",
    "                           ,\"IBM\":ibm_daily_return})\n",
    "portfolio.head()"
   ]
  },
  {
   "cell_type": "markdown",
   "metadata": {},
   "source": [
    "## 2. The statistics"
   ]
  },
  {
   "cell_type": "markdown",
   "metadata": {},
   "source": [
    "### 1. Average daily return, Standard deviation, Skewness and Kurtosis"
   ]
  },
  {
   "cell_type": "code",
   "execution_count": 4,
   "metadata": {},
   "outputs": [
    {
     "data": {
      "text/html": [
       "<div>\n",
       "<style scoped>\n",
       "    .dataframe tbody tr th:only-of-type {\n",
       "        vertical-align: middle;\n",
       "    }\n",
       "\n",
       "    .dataframe tbody tr th {\n",
       "        vertical-align: top;\n",
       "    }\n",
       "\n",
       "    .dataframe thead th {\n",
       "        text-align: right;\n",
       "    }\n",
       "</style>\n",
       "<table border=\"1\" class=\"dataframe\">\n",
       "  <thead>\n",
       "    <tr style=\"text-align: right;\">\n",
       "      <th></th>\n",
       "      <th>Daily_Return</th>\n",
       "      <th>STD</th>\n",
       "      <th>Skewness</th>\n",
       "      <th>Kurtosis</th>\n",
       "    </tr>\n",
       "  </thead>\n",
       "  <tbody>\n",
       "    <tr>\n",
       "      <th>PEP</th>\n",
       "      <td>0.000271</td>\n",
       "      <td>0.010357</td>\n",
       "      <td>-0.469387</td>\n",
       "      <td>3.084572</td>\n",
       "    </tr>\n",
       "    <tr>\n",
       "      <th>PG</th>\n",
       "      <td>0.000143</td>\n",
       "      <td>0.011039</td>\n",
       "      <td>-0.447597</td>\n",
       "      <td>3.223612</td>\n",
       "    </tr>\n",
       "    <tr>\n",
       "      <th>IBM</th>\n",
       "      <td>0.000521</td>\n",
       "      <td>0.013520</td>\n",
       "      <td>-0.857793</td>\n",
       "      <td>8.971818</td>\n",
       "    </tr>\n",
       "  </tbody>\n",
       "</table>\n",
       "</div>"
      ],
      "text/plain": [
       "     Daily_Return       STD  Skewness  Kurtosis\n",
       "PEP      0.000271  0.010357 -0.469387  3.084572\n",
       "PG       0.000143  0.011039 -0.447597  3.223612\n",
       "IBM      0.000521  0.013520 -0.857793  8.971818"
      ]
     },
     "execution_count": 4,
     "metadata": {},
     "output_type": "execute_result"
    }
   ],
   "source": [
    "daily_return = portfolio.mean()\n",
    "std = portfolio.std()\n",
    "skewness = portfolio.skew()\n",
    "kurtosis = portfolio.kurtosis()\n",
    "\n",
    "stats = pd.DataFrame({\"Daily_Return\":daily_return \n",
    "                      ,\"STD\": std\n",
    "                      ,\"Skewness\" : skewness\n",
    "                      ,\"Kurtosis\" : kurtosis})\n",
    "stats"
   ]
  },
  {
   "cell_type": "markdown",
   "metadata": {},
   "source": [
    "### 2. Correlation and Covariance of PEP, PG, IBM"
   ]
  },
  {
   "cell_type": "code",
   "execution_count": 5,
   "metadata": {},
   "outputs": [
    {
     "data": {
      "text/html": [
       "<div>\n",
       "<style scoped>\n",
       "    .dataframe tbody tr th:only-of-type {\n",
       "        vertical-align: middle;\n",
       "    }\n",
       "\n",
       "    .dataframe tbody tr th {\n",
       "        vertical-align: top;\n",
       "    }\n",
       "\n",
       "    .dataframe thead th {\n",
       "        text-align: right;\n",
       "    }\n",
       "</style>\n",
       "<table border=\"1\" class=\"dataframe\">\n",
       "  <thead>\n",
       "    <tr style=\"text-align: right;\">\n",
       "      <th></th>\n",
       "      <th>PEP</th>\n",
       "      <th>PG</th>\n",
       "      <th>IBM</th>\n",
       "    </tr>\n",
       "  </thead>\n",
       "  <tbody>\n",
       "    <tr>\n",
       "      <th>PEP</th>\n",
       "      <td>1.000000</td>\n",
       "      <td>0.702786</td>\n",
       "      <td>0.346196</td>\n",
       "    </tr>\n",
       "    <tr>\n",
       "      <th>PG</th>\n",
       "      <td>0.702786</td>\n",
       "      <td>1.000000</td>\n",
       "      <td>0.349313</td>\n",
       "    </tr>\n",
       "    <tr>\n",
       "      <th>IBM</th>\n",
       "      <td>0.346196</td>\n",
       "      <td>0.349313</td>\n",
       "      <td>1.000000</td>\n",
       "    </tr>\n",
       "  </tbody>\n",
       "</table>\n",
       "</div>"
      ],
      "text/plain": [
       "          PEP        PG       IBM\n",
       "PEP  1.000000  0.702786  0.346196\n",
       "PG   0.702786  1.000000  0.349313\n",
       "IBM  0.346196  0.349313  1.000000"
      ]
     },
     "execution_count": 5,
     "metadata": {},
     "output_type": "execute_result"
    }
   ],
   "source": [
    "# Correlation\n",
    "correlation = portfolio.corr()\n",
    "correlation"
   ]
  },
  {
   "cell_type": "code",
   "execution_count": 6,
   "metadata": {},
   "outputs": [
    {
     "data": {
      "text/html": [
       "<div>\n",
       "<style scoped>\n",
       "    .dataframe tbody tr th:only-of-type {\n",
       "        vertical-align: middle;\n",
       "    }\n",
       "\n",
       "    .dataframe tbody tr th {\n",
       "        vertical-align: top;\n",
       "    }\n",
       "\n",
       "    .dataframe thead th {\n",
       "        text-align: right;\n",
       "    }\n",
       "</style>\n",
       "<table border=\"1\" class=\"dataframe\">\n",
       "  <thead>\n",
       "    <tr style=\"text-align: right;\">\n",
       "      <th></th>\n",
       "      <th>PEP</th>\n",
       "      <th>PG</th>\n",
       "      <th>IBM</th>\n",
       "    </tr>\n",
       "  </thead>\n",
       "  <tbody>\n",
       "    <tr>\n",
       "      <th>PEP</th>\n",
       "      <td>0.000107</td>\n",
       "      <td>0.000080</td>\n",
       "      <td>0.000048</td>\n",
       "    </tr>\n",
       "    <tr>\n",
       "      <th>PG</th>\n",
       "      <td>0.000080</td>\n",
       "      <td>0.000122</td>\n",
       "      <td>0.000052</td>\n",
       "    </tr>\n",
       "    <tr>\n",
       "      <th>IBM</th>\n",
       "      <td>0.000048</td>\n",
       "      <td>0.000052</td>\n",
       "      <td>0.000183</td>\n",
       "    </tr>\n",
       "  </tbody>\n",
       "</table>\n",
       "</div>"
      ],
      "text/plain": [
       "          PEP        PG       IBM\n",
       "PEP  0.000107  0.000080  0.000048\n",
       "PG   0.000080  0.000122  0.000052\n",
       "IBM  0.000048  0.000052  0.000183"
      ]
     },
     "execution_count": 6,
     "metadata": {},
     "output_type": "execute_result"
    }
   ],
   "source": [
    "# Covariance\n",
    "covariance = portfolio.cov()\n",
    "covariance"
   ]
  },
  {
   "cell_type": "markdown",
   "metadata": {},
   "source": [
    "## 3. Portfolio statistics"
   ]
  },
  {
   "cell_type": "markdown",
   "metadata": {},
   "source": [
    "While PEP and PG have a very strong correlation, IBM is less correlated with any of them. Therefore, to diversify the portfolio, I assigned 50% to IBM, 30% to PG and 20% to PEP"
   ]
  },
  {
   "cell_type": "code",
   "execution_count": 7,
   "metadata": {},
   "outputs": [
    {
     "data": {
      "text/html": [
       "<div>\n",
       "<style scoped>\n",
       "    .dataframe tbody tr th:only-of-type {\n",
       "        vertical-align: middle;\n",
       "    }\n",
       "\n",
       "    .dataframe tbody tr th {\n",
       "        vertical-align: top;\n",
       "    }\n",
       "\n",
       "    .dataframe thead th {\n",
       "        text-align: right;\n",
       "    }\n",
       "</style>\n",
       "<table border=\"1\" class=\"dataframe\">\n",
       "  <thead>\n",
       "    <tr style=\"text-align: right;\">\n",
       "      <th></th>\n",
       "      <th>PEP</th>\n",
       "      <th>PG</th>\n",
       "      <th>IBM</th>\n",
       "      <th>Portfolio</th>\n",
       "    </tr>\n",
       "  </thead>\n",
       "  <tbody>\n",
       "    <tr>\n",
       "      <th>0</th>\n",
       "      <td>0.002980</td>\n",
       "      <td>0.006385</td>\n",
       "      <td>0.017751</td>\n",
       "      <td>0.011387</td>\n",
       "    </tr>\n",
       "    <tr>\n",
       "      <th>1</th>\n",
       "      <td>-0.012232</td>\n",
       "      <td>0.010526</td>\n",
       "      <td>0.024972</td>\n",
       "      <td>0.013198</td>\n",
       "    </tr>\n",
       "    <tr>\n",
       "      <th>2</th>\n",
       "      <td>-0.003218</td>\n",
       "      <td>-0.009346</td>\n",
       "      <td>-0.002320</td>\n",
       "      <td>-0.004608</td>\n",
       "    </tr>\n",
       "    <tr>\n",
       "      <th>3</th>\n",
       "      <td>0.012002</td>\n",
       "      <td>-0.000432</td>\n",
       "      <td>-0.003566</td>\n",
       "      <td>0.000488</td>\n",
       "    </tr>\n",
       "    <tr>\n",
       "      <th>4</th>\n",
       "      <td>-0.014496</td>\n",
       "      <td>-0.006773</td>\n",
       "      <td>0.000389</td>\n",
       "      <td>-0.004736</td>\n",
       "    </tr>\n",
       "  </tbody>\n",
       "</table>\n",
       "</div>"
      ],
      "text/plain": [
       "        PEP        PG       IBM  Portfolio\n",
       "0  0.002980  0.006385  0.017751   0.011387\n",
       "1 -0.012232  0.010526  0.024972   0.013198\n",
       "2 -0.003218 -0.009346 -0.002320  -0.004608\n",
       "3  0.012002 -0.000432 -0.003566   0.000488\n",
       "4 -0.014496 -0.006773  0.000389  -0.004736"
      ]
     },
     "execution_count": 7,
     "metadata": {},
     "output_type": "execute_result"
    }
   ],
   "source": [
    "# daily return of the portfolio\n",
    "\n",
    "portfolio[\"Portfolio\"] = portfolio.PEP*0.2 + portfolio.PG*0.3 + portfolio.IBM*0.5\n",
    "portfolio.head()\n"
   ]
  },
  {
   "cell_type": "code",
   "execution_count": 8,
   "metadata": {},
   "outputs": [
    {
     "data": {
      "text/html": [
       "<div>\n",
       "<style scoped>\n",
       "    .dataframe tbody tr th:only-of-type {\n",
       "        vertical-align: middle;\n",
       "    }\n",
       "\n",
       "    .dataframe tbody tr th {\n",
       "        vertical-align: top;\n",
       "    }\n",
       "\n",
       "    .dataframe thead th {\n",
       "        text-align: right;\n",
       "    }\n",
       "</style>\n",
       "<table border=\"1\" class=\"dataframe\">\n",
       "  <thead>\n",
       "    <tr style=\"text-align: right;\">\n",
       "      <th></th>\n",
       "      <th>Daily_Return</th>\n",
       "      <th>STD</th>\n",
       "      <th>Skewness</th>\n",
       "      <th>Kurtosis</th>\n",
       "    </tr>\n",
       "  </thead>\n",
       "  <tbody>\n",
       "    <tr>\n",
       "      <th>PEP</th>\n",
       "      <td>0.000271</td>\n",
       "      <td>0.010357</td>\n",
       "      <td>-0.469387</td>\n",
       "      <td>3.084572</td>\n",
       "    </tr>\n",
       "    <tr>\n",
       "      <th>PG</th>\n",
       "      <td>0.000143</td>\n",
       "      <td>0.011039</td>\n",
       "      <td>-0.447597</td>\n",
       "      <td>3.223612</td>\n",
       "    </tr>\n",
       "    <tr>\n",
       "      <th>IBM</th>\n",
       "      <td>0.000521</td>\n",
       "      <td>0.013520</td>\n",
       "      <td>-0.857793</td>\n",
       "      <td>8.971818</td>\n",
       "    </tr>\n",
       "    <tr>\n",
       "      <th>Portfolio</th>\n",
       "      <td>0.000357</td>\n",
       "      <td>0.009795</td>\n",
       "      <td>-0.520497</td>\n",
       "      <td>3.892110</td>\n",
       "    </tr>\n",
       "  </tbody>\n",
       "</table>\n",
       "</div>"
      ],
      "text/plain": [
       "           Daily_Return       STD  Skewness  Kurtosis\n",
       "PEP            0.000271  0.010357 -0.469387  3.084572\n",
       "PG             0.000143  0.011039 -0.447597  3.223612\n",
       "IBM            0.000521  0.013520 -0.857793  8.971818\n",
       "Portfolio      0.000357  0.009795 -0.520497  3.892110"
      ]
     },
     "execution_count": 8,
     "metadata": {},
     "output_type": "execute_result"
    }
   ],
   "source": [
    "# stats of the portfolio\n",
    "daily_return = portfolio.mean()\n",
    "std = portfolio.std()\n",
    "skewness = portfolio.skew()\n",
    "kurtosis = portfolio.kurtosis()\n",
    "\n",
    "portfolio_stats = pd.DataFrame({\"Daily_Return\":daily_return \n",
    "                      ,\"STD\": std\n",
    "                      ,\"Skewness\" : skewness\n",
    "                      ,\"Kurtosis\" : kurtosis})\n",
    "portfolio_stats"
   ]
  }
 ],
 "metadata": {
  "kernelspec": {
   "display_name": "Python 3",
   "language": "python",
   "name": "python3"
  },
  "language_info": {
   "codemirror_mode": {
    "name": "ipython",
    "version": 3
   },
   "file_extension": ".py",
   "mimetype": "text/x-python",
   "name": "python",
   "nbconvert_exporter": "python",
   "pygments_lexer": "ipython3",
   "version": "3.8.5"
  }
 },
 "nbformat": 4,
 "nbformat_minor": 4
}
